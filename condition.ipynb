{
  "nbformat": 4,
  "nbformat_minor": 0,
  "metadata": {
    "colab": {
      "provenance": []
    },
    "kernelspec": {
      "name": "python3",
      "display_name": "Python 3"
    },
    "language_info": {
      "name": "python"
    }
  },
  "cells": [
    {
      "cell_type": "markdown",
      "source": [
        "conditions are used to designed the path of exicution"
      ],
      "metadata": {
        "id": "7j-Rvwnc0DxS"
      }
    },
    {
      "cell_type": "code",
      "execution_count": null,
      "metadata": {
        "id": "bPVWbJmG0COe",
        "colab": {
          "base_uri": "https://localhost:8080/"
        },
        "outputId": "c538165e-85ca-4c80-e197-a02ea5229aa7"
      },
      "outputs": [
        {
          "output_type": "stream",
          "name": "stdout",
          "text": [
            "enter your age :61\n",
            "elegible for vaccination\n"
          ]
        }
      ],
      "source": [
        "x = int(input('enter your age :'))\n",
        "\n",
        "if x >= 60 :\n",
        "  print('elegible for vaccination')\n",
        "else :\n",
        "  print('not elegible for vaccination')"
      ]
    },
    {
      "cell_type": "code",
      "source": [
        "x = int(input('number : '))\n",
        "\n",
        "if x > 0 :\n",
        "  print(1)\n",
        "elif x < 0 :\n",
        "  print (-1)\n",
        "else :\n",
        "  print(0)\n"
      ],
      "metadata": {
        "colab": {
          "base_uri": "https://localhost:8080/"
        },
        "id": "Ifrxi7e6gQWD",
        "outputId": "8d47d909-43aa-4b06-c419-d470e134dfeb"
      },
      "execution_count": null,
      "outputs": [
        {
          "output_type": "stream",
          "name": "stdout",
          "text": [
            "number : 8\n",
            "1\n"
          ]
        }
      ]
    },
    {
      "cell_type": "code",
      "source": [
        "age = int(input('enter the age :'))\n",
        "\n",
        "if age < 10 :\n",
        "  print('lp')\n",
        "elif age < 13 :\n",
        "  print('up')\n",
        "elif age < 15 :\n",
        "  print('high school')\n",
        "elif age <17 :\n",
        "  print ('hs')\n",
        "else:\n",
        "  print('invalid')"
      ],
      "metadata": {
        "colab": {
          "base_uri": "https://localhost:8080/"
        },
        "id": "sYYB10YdlN_J",
        "outputId": "aa78ee0d-673c-45ac-cd7d-f0d81f011e6a"
      },
      "execution_count": null,
      "outputs": [
        {
          "output_type": "stream",
          "name": "stdout",
          "text": [
            "enter the age :4\n",
            "lp\n"
          ]
        }
      ]
    },
    {
      "cell_type": "code",
      "source": [
        "age = int(input('enter the number : '))\n",
        "health = input('enter your health condition 1 for critical , 2 for normal')\n",
        "\n",
        "if age > 60 and health == '2' :\n",
        "  print('you are elegible for second dose')\n",
        "elif age > 60 and health == '1' :\n",
        "  print('you are not elegible for second dose')\n",
        "elif age > 18 and health == '2' :\n",
        "  print('you are elegible for second dose')\n",
        "elif age > 18 and health == '1' :\n",
        "  print('you are elegible for second dose')\n",
        "else:\n",
        "  print('you are not elegible')"
      ],
      "metadata": {
        "colab": {
          "base_uri": "https://localhost:8080/"
        },
        "id": "QU7--YNdvJPG",
        "outputId": "8694c0b3-9ec0-465d-8369-6e70f5164728"
      },
      "execution_count": null,
      "outputs": [
        {
          "output_type": "stream",
          "name": "stdout",
          "text": [
            "enter the number : 68\n",
            "enter your health condition 1 for critical , 2 for normal2\n",
            "you are elegible for second dose\n"
          ]
        }
      ]
    },
    {
      "cell_type": "code",
      "source": [],
      "metadata": {
        "id": "qPMg2fPIw2u-"
      },
      "execution_count": null,
      "outputs": []
    }
  ]
}